{
  "nbformat": 4,
  "nbformat_minor": 0,
  "metadata": {
    "colab": {
      "provenance": []
    },
    "kernelspec": {
      "name": "python3",
      "display_name": "Python 3"
    },
    "language_info": {
      "name": "python"
    }
  },
  "cells": [
    {
      "cell_type": "markdown",
      "source": [
        "load and preprocess data based on 001."
      ],
      "metadata": {
        "id": "LKdVpvTsKZ8W"
      }
    },
    {
      "cell_type": "code",
      "source": [
        "import torch\n",
        "import torch.nn as nn\n",
        "import torch.nn.functional as F"
      ],
      "metadata": {
        "id": "2EmzajSXKe-P"
      },
      "execution_count": 1,
      "outputs": []
    },
    {
      "cell_type": "code",
      "source": [
        "class VAE(nn.Module):\n",
        "    def __init__(self, input_dim=128*1500, latent_dim=256):\n",
        "        super().__init__()\n",
        "        self.fc1 = nn.Linear(input_dim, 1024)\n",
        "        self.fc21 = nn.Linear(1024, latent_dim)\n",
        "        self.fc22 = nn.Linear(1024, latent_dim)\n",
        "        self.fc3 = nn.Linear(latent_dim, 1024)\n",
        "        self.fc4 = nn.Linear(1024, input_dim)\n",
        "\n",
        "    def encode(self, x):\n",
        "        h1 = F.relu(self.fc1(x))\n",
        "        return self.fc21(h1), self.fc22(h1)\n",
        "\n",
        "    def reparam(self, mu, logvar):\n",
        "        std = torch.exp(0.5*logvar)\n",
        "        eps = torch.randn_like(std)\n",
        "        return mu + eps*std\n",
        "\n",
        "    def decode(self, z):\n",
        "        h3 = F.relu(self.fc3(z))\n",
        "        return torch.sigmoid(self.fc4(h3))\n",
        "\n",
        "    def forward(self, x):\n",
        "        mu, logvar = self.encode(x.view(x.size(0), -1))\n",
        "        z = self.reparam(mu, logvar)\n",
        "        return self.decode(z), mu, logvar\n",
        "\n",
        "def vae_loss(recon_x, x, mu, logvar):\n",
        "    BCE = F.binary_cross_entropy(recon_x, x.view(x.size(0), -1), reduction='mean')\n",
        "    KLD = -0.5 * torch.sum(1 + logvar - mu.pow(2) - logvar.exp())\n",
        "    return BCE + KLD"
      ],
      "metadata": {
        "id": "W48TG86-Kgst"
      },
      "execution_count": 2,
      "outputs": []
    },
    {
      "cell_type": "code",
      "source": [
        "from torch.utils.data import DataLoader, TensorDataset\n",
        "import matplotlib.pyplot as plt\n",
        "\n",
        "X_tensor = torch.tensor(X, dtype=torch.float32)\n",
        "dataset = TensorDataset(X_tensor)\n",
        "dataloader = DataLoader(dataset, batch_size=16, shuffle=True)\n",
        "\n",
        "vae = VAE().cuda()\n",
        "optimizer = torch.optim.Adam(vae.parameters(), lr=1e-4)\n",
        "losses = []\n",
        "\n",
        "for epoch in range(20):\n",
        "    total_loss = 0\n",
        "    for batch in dataloader:\n",
        "        x = batch[0].cuda()\n",
        "        optimizer.zero_grad()\n",
        "        recon, mu, logvar = vae(x)\n",
        "        loss = vae_loss(recon, x, mu, logvar)\n",
        "        loss.backward()\n",
        "        torch.nn.utils.clip_grad_norm_(vae.parameters(), max_norm=1.0)\n",
        "        optimizer.step()\n",
        "        total_loss += loss.item()\n",
        "    print(f\"Epoch {epoch+1}, Loss: {total_loss}\")\n",
        "    losses.append(total_loss)\n",
        "\n",
        "plt.plot(losses)\n",
        "plt.title(\"VAE Training Loss\")\n",
        "plt.xlabel(\"Epoch\")\n",
        "plt.ylabel(\"Loss\")\n",
        "plt.show()"
      ],
      "metadata": {
        "id": "OwjEV4qQKj9-"
      },
      "execution_count": null,
      "outputs": []
    }
  ]
}