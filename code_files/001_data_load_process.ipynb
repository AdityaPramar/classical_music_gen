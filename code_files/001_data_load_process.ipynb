{
  "nbformat": 4,
  "nbformat_minor": 0,
  "metadata": {
    "colab": {
      "provenance": []
    },
    "kernelspec": {
      "name": "python3",
      "display_name": "Python 3"
    },
    "language_info": {
      "name": "python"
    }
  },
  "cells": [
    {
      "cell_type": "code",
      "source": [
        "!pip install pretty_midi pypianoroll"
      ],
      "metadata": {
        "colab": {
          "base_uri": "https://localhost:8080/"
        },
        "collapsed": true,
        "id": "82f403oVKJgF",
        "outputId": "bd4054d9-7bfc-4615-9ed3-8ea07acba387"
      },
      "execution_count": 4,
      "outputs": [
        {
          "output_type": "stream",
          "name": "stdout",
          "text": [
            "Requirement already satisfied: pretty_midi in /usr/local/lib/python3.11/dist-packages (0.2.10)\n",
            "Collecting pypianoroll\n",
            "  Downloading pypianoroll-1.0.4-py3-none-any.whl.metadata (3.8 kB)\n",
            "Requirement already satisfied: numpy>=1.7.0 in /usr/local/lib/python3.11/dist-packages (from pretty_midi) (2.0.2)\n",
            "Requirement already satisfied: mido>=1.1.16 in /usr/local/lib/python3.11/dist-packages (from pretty_midi) (1.3.3)\n",
            "Requirement already satisfied: six in /usr/local/lib/python3.11/dist-packages (from pretty_midi) (1.17.0)\n",
            "Requirement already satisfied: scipy>=1.0.0 in /usr/local/lib/python3.11/dist-packages (from pypianoroll) (1.15.3)\n",
            "Requirement already satisfied: matplotlib>=1.5 in /usr/local/lib/python3.11/dist-packages (from pypianoroll) (3.10.0)\n",
            "Requirement already satisfied: contourpy>=1.0.1 in /usr/local/lib/python3.11/dist-packages (from matplotlib>=1.5->pypianoroll) (1.3.2)\n",
            "Requirement already satisfied: cycler>=0.10 in /usr/local/lib/python3.11/dist-packages (from matplotlib>=1.5->pypianoroll) (0.12.1)\n",
            "Requirement already satisfied: fonttools>=4.22.0 in /usr/local/lib/python3.11/dist-packages (from matplotlib>=1.5->pypianoroll) (4.58.0)\n",
            "Requirement already satisfied: kiwisolver>=1.3.1 in /usr/local/lib/python3.11/dist-packages (from matplotlib>=1.5->pypianoroll) (1.4.8)\n",
            "Requirement already satisfied: packaging>=20.0 in /usr/local/lib/python3.11/dist-packages (from matplotlib>=1.5->pypianoroll) (24.2)\n",
            "Requirement already satisfied: pillow>=8 in /usr/local/lib/python3.11/dist-packages (from matplotlib>=1.5->pypianoroll) (11.2.1)\n",
            "Requirement already satisfied: pyparsing>=2.3.1 in /usr/local/lib/python3.11/dist-packages (from matplotlib>=1.5->pypianoroll) (3.2.3)\n",
            "Requirement already satisfied: python-dateutil>=2.7 in /usr/local/lib/python3.11/dist-packages (from matplotlib>=1.5->pypianoroll) (2.9.0.post0)\n",
            "Downloading pypianoroll-1.0.4-py3-none-any.whl (26 kB)\n",
            "Installing collected packages: pypianoroll\n",
            "Successfully installed pypianoroll-1.0.4\n"
          ]
        }
      ]
    },
    {
      "cell_type": "code",
      "execution_count": 5,
      "metadata": {
        "id": "cXKQwDCNJ0z_"
      },
      "outputs": [],
      "source": [
        "import os\n",
        "import numpy as np\n",
        "import pretty_midi\n",
        "from pypianoroll import Multitrack, Track\n",
        "from torch.utils.data import DataLoader, TensorDataset"
      ]
    },
    {
      "cell_type": "markdown",
      "source": [
        "import data into \"path\" variable"
      ],
      "metadata": {
        "id": "7_HSEw82J-Cq"
      }
    },
    {
      "cell_type": "code",
      "source": [
        "def midi_to_pianoroll(filepath, fs=100):\n",
        "    try:\n",
        "        midi = pretty_midi.PrettyMIDI(filepath)\n",
        "        piano_roll = midi.get_piano_roll(fs=fs)\n",
        "        piano_roll = (piano_roll > 0).astype(np.uint8)\n",
        "        return piano_roll\n",
        "    except:\n",
        "        return None\n",
        "\n",
        "def load_dataset(base_path, seconds=15, fs=100):\n",
        "    X = []\n",
        "    target_len = fs * seconds\n",
        "    for composer in os.listdir(base_path):\n",
        "        composer_path = os.path.join(base_path, composer)\n",
        "        for file in os.listdir(composer_path):\n",
        "            if file.endswith('.mid'):\n",
        "                path = os.path.join(composer_path, file)\n",
        "                pr = midi_to_pianoroll(path, fs)\n",
        "                if pr is not None and pr.shape[1] >= target_len:\n",
        "                    X.append(pr[:, :target_len])\n",
        "    return np.stack(X)"
      ],
      "metadata": {
        "id": "TDLbCRNDKAt3"
      },
      "execution_count": 6,
      "outputs": []
    }
  ]
}